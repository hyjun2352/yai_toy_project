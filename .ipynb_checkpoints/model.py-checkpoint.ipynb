{
 "cells": [
  {
   "cell_type": "code",
   "execution_count": null,
   "id": "670a3dd7",
   "metadata": {},
   "outputs": [],
   "source": [
    "import torch\n",
    "import torch.nn as nn\n",
    "from torch.autograd import Variable\n",
    "\n",
    "class RNN(nn.Module):\n",
    "    def __init__(self, input_size, hidden_size, output_size, n_layers = 1, dropout_p=0.1):\n",
    "        super(RNN, self).__init__()\n",
    "        self.input_size = input_size\n",
    "        self.hidden_size = hidden_size\n",
    "        self.output_size = output_size\n",
    "        self.n_layers = n_layers\n",
    "\n",
    "        self.encoder = nn.Embedding(input_size, hidden_size)\n",
    "        self.gru = nn.GRU(hidden_size, hidden_size, n_layers)\n",
    "        self.dropout = nn.Dropout(dropout_p)\n",
    "        self.decoder = nn.Linear(hidden_size, output_size)\n",
    "\n",
    "    def forward(self, input, hidden):\n",
    "        # input.view(1, -1) size 1 x input_size\n",
    "        # input size 1 x 1 x hidden_size\n",
    "        input = self.encoder(input.view(1, -1))\n",
    "        input = self.dropout(input)\n",
    "        # input.view(1 ,1 ,-1) size seq_len x batch x input_size => 1 x 1 x input_size\n",
    "        # hidden size n_layers x batch x hidden_size => n_layers x 1 x input_size\n",
    "        # output size seq_len x batch x hidden_size * num_directions => 1 x 1 x hidden_size\n",
    "        output, hidden = self.gru(input.view(1, 1, -1), hidden)\n",
    "        # output.view(1, -1) size 1 x (1 x hidden_size)\n",
    "        # output size 1 x output_size\n",
    "        output = self.decoder(output.view(1, -1))\n",
    "        return output, hidden\n",
    "    def init_hidden(self):\n",
    "        # size self.n_layers x 1 x self.hidden_size\n",
    "        return Variable(torch.zeros(self.n_layers, 1, self.hidden_size))"
   ]
  }
 ],
 "metadata": {
  "kernelspec": {
   "display_name": "Python 3 (ipykernel)",
   "language": "python",
   "name": "python3"
  },
  "language_info": {
   "codemirror_mode": {
    "name": "ipython",
    "version": 3
   },
   "file_extension": ".py",
   "mimetype": "text/x-python",
   "name": "python",
   "nbconvert_exporter": "python",
   "pygments_lexer": "ipython3",
   "version": "3.9.13"
  }
 },
 "nbformat": 4,
 "nbformat_minor": 5
}
